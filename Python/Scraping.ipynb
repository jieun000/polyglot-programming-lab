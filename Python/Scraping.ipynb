{
 "cells": [
  {
   "cell_type": "markdown",
   "id": "a2c2c9d6",
   "metadata": {},
   "source": [
    "#### Web Scraping(웹 스크레이핑): 데이터를 수집하는 작업 전체\n",
    "<sup>API를 활용하는 프로그램이나 사람이 직접 웹 브라우저를 조작하는 방법 제외</sup>\n",
    "- 데이터 분석, 자연어 처리, 정보 보안 등 다양한 프로그래밍 테크닉과 기술을 포괄.\n",
    "- 프로그램을 만들어 웹 서버에 쿼리를 보내 데이터(HTML 등)를 요청하고, 이를 파싱해 필요한 정보를 추천하는 작업을 자동으로 함."
   ]
  },
  {
   "cell_type": "markdown",
   "id": "d89e1fd9",
   "metadata": {},
   "source": [
    "[urllib 라이브러리](https://docs.python.org/3/library/urllib.html): 웹을 통해 데이터를 요청하는 함수, 쿠키를 처리하는 함수, 헤저나 유저 에이전트 등 메타데이터를 바꾸는 함수 등.\n",
    "- urlopen: 네트워크를 통해 원격 객체를 읽음. html파일이나 이미지 파일, 기타 파일 스트림을 열 수 있는 매우 범용적인 함수."
   ]
  },
  {
   "cell_type": "code",
   "execution_count": 3,
   "id": "4ef4a923",
   "metadata": {
    "collapsed": true
   },
   "outputs": [
    {
     "name": "stdout",
     "output_type": "stream",
     "text": [
      "b'<!DOCTYPE html>\\r\\n<html>\\r\\n<head>\\r\\n<meta charset=\"UTF-8\">\\r\\n<title>\\xed\\x8c\\x8c\\xec\\x9d\\xb4\\xec\\x8d\\xac 2\\xed\\x95\\x99\\xeb\\x85\\x84 - 20200910</title>\\r\\n</head>\\r\\n<body>\\r\\n<div id=\"chap1\">\\r\\n<h2>\\xec\\xa0\\x9c1\\xec\\x9e\\xa5\\xc2\\xa0\\xed\\x8c\\x8c\\xec\\x9d\\xb4\\xec\\x8d\\xac\\xec\\x9c\\xbc\\xeb\\xa1\\x9c\\xc2\\xa0\\xeb\\x8d\\xb0\\xec\\x9d\\xb4\\xed\\x84\\xb0\\xeb\\xa5\\xbc\\xc2\\xa0\\xeb\\x8b\\xa4\\xec\\x9a\\xb4\\xeb\\xa1\\x9c\\xeb\\x93\\x9c</h2>\\r\\n<ol>\\r\\n<li>\\xec\\x8a\\xa4\\xed\\x81\\xac\\xeb\\x9e\\x98\\xed\\x95\\x91\\xec\\x9d\\xb4\\xc2\\xa0\\xeb\\xad\\x90\\xec\\xa7\\x80?</li>\\r\\n<li>\\xed\\x8c\\x8c\\xec\\x9d\\xb4\\xec\\x8d\\xac\\xec\\x9d\\x84\\xc2\\xa0\\xec\\x84\\xa4\\xec\\xb9\\x98\\xed\\x95\\xb4\\xc2\\xa0\\xeb\\xb3\\xb4\\xec\\x9e\\x90</li>\\r\\n<li>requests\\xeb\\xa1\\x9c\\xc2\\xa0\\xec\\x95\\xa1\\xec\\x84\\xb8\\xec\\x8a\\xa4\\xed\\x95\\xb4\\xc2\\xa0\\xeb\\xb3\\xb4\\xec\\x9e\\x90</li>\\r\\n</ol>\\r\\n</div>\\r\\n<div id=\"chap2\">\\r\\n<h2>\\xec\\xa0\\x9c2\\xec\\x9e\\xa5 HTML\\xec\\x9d\\x84 \\xed\\x95\\xb4\\xec\\x84\\x9d\\xed\\x95\\xb4 \\xeb\\xb3\\xb4\\xec\\x9e\\x90</h2>\\r\\n<ol>\\r\\n<li>HTML\\xec\\x9d\\x84 \\xed\\x95\\xb4\\xec\\x84\\x9d\\xed\\x95\\xb4 \\xeb\\xb3\\xb4\\xec\\x9e\\x90</li>\\r\\n<li>\\xec\\xb5\\x9c\\xec\\x8b\\xa0 \\xeb\\x89\\xb4\\xec\\x8a\\xa4 \\xeb\\xaa\\xa9\\xeb\\xa1\\x9d\\xec\\x9d\\x84 \\xea\\xb5\\xac\\xed\\x95\\xb4 \\xeb\\xb3\\xb4\\xec\\x9e\\x90</li>\\r\\n<li>\\xeb\\xa7\\x81\\xed\\x81\\xac \\xeb\\xaa\\xa9\\xeb\\xa1\\x9d\\xec\\x9d\\x84 \\xed\\x8c\\x8c\\xec\\x9d\\xbc\\xeb\\xa1\\x9c \\xec\\xb6\\x9c\\xeb\\xa0\\xa5\\xed\\x95\\xb4 \\xeb\\xb3\\xb4\\xec\\x9e\\x90</li>\\r\\n<li>\\xec\\x9d\\xb4\\xeb\\xaf\\xb8\\xec\\xa7\\x80\\xeb\\xa5\\xbc \\xed\\x95\\x9c\\xea\\xba\\xbc\\xeb\\xb2\\x88\\xec\\x97\\x90 \\xeb\\x8b\\xa4\\xec\\x9a\\xb4\\xeb\\xa1\\x9c\\xeb\\x93\\x9c\\xed\\x95\\xb4 \\xeb\\xb3\\xb4\\xec\\x9e\\x90</li>\\r\\n</ol>\\r\\n</div>\\r\\n\\r\\n<a href=\"http://python.cyber.co.kr/pds/books/python2nd/test1.html\">\\xeb\\xa7\\x81\\xed\\x81\\xac1</a>\\r\\n<a href=\"./test3.html\">\\xeb\\xa7\\x81\\xed\\x81\\xac2</a><br/>\\r\\n<img src=\"http://python.cyber.co.kr/pds/books/python2nd/sample1.png\">\\r\\n<img src=\"./sample2.png\">\\r\\n<img src=\"./sample3.png\">\\r\\n</body>\\r\\n</html>\\r\\n\\r\\n'\n"
     ]
    }
   ],
   "source": [
    "from urllib.request import urlopen\n",
    "\n",
    "html = urlopen('http://python.cyber.co.kr/pds/books/python2nd/test2.html')\n",
    "print(html.read())"
   ]
  },
  {
   "cell_type": "markdown",
   "id": "364fc6dc",
   "metadata": {},
   "source": [
    "#### BeautifulSoup: 잘못된 HTML을 수정하여 XML 형식의 파이썬 객체로 변환\n",
    "아름다운 수프, 풍부한 녹색 <br>\n",
    "그릇에서 기다리거라! <br>\n",
    "누가 이 맛있는 것에 숙이지 않으리? <br>\n",
    "저녁 수프, 아름다운 수프! <br>\n",
    "    - Alice in Wonderland\n",
    "    \n",
    "BeautifulSoup(객체의 근간인 HTML 텍스트, 구문 분석기)"
   ]
  },
  {
   "cell_type": "code",
   "execution_count": 4,
   "id": "0c0e140a",
   "metadata": {},
   "outputs": [
    {
     "name": "stdout",
     "output_type": "stream",
     "text": [
      "<!DOCTYPE html>\n",
      "\n",
      "<html>\n",
      "<head>\n",
      "<meta charset=\"utf-8\"/>\n",
      "<title>파이썬 2학년 - 20200910</title>\n",
      "</head>\n",
      "<body>\n",
      "<div id=\"chap1\">\n",
      "<h2>제1장 파이썬으로 데이터를 다운로드</h2>\n",
      "<ol>\n",
      "<li>스크래핑이 뭐지?</li>\n",
      "<li>파이썬을 설치해 보자</li>\n",
      "<li>requests로 액세스해 보자</li>\n",
      "</ol>\n",
      "</div>\n",
      "<div id=\"chap2\">\n",
      "<h2>제2장 HTML을 해석해 보자</h2>\n",
      "<ol>\n",
      "<li>HTML을 해석해 보자</li>\n",
      "<li>최신 뉴스 목록을 구해 보자</li>\n",
      "<li>링크 목록을 파일로 출력해 보자</li>\n",
      "<li>이미지를 한꺼번에 다운로드해 보자</li>\n",
      "</ol>\n",
      "</div>\n",
      "<a href=\"http://python.cyber.co.kr/pds/books/python2nd/test1.html\">링크1</a>\n",
      "<a href=\"./test3.html\">링크2</a><br/>\n",
      "<img src=\"http://python.cyber.co.kr/pds/books/python2nd/sample1.png\"/>\n",
      "<img src=\"./sample2.png\"/>\n",
      "<img src=\"./sample3.png\"/>\n",
      "</body>\n",
      "</html>\n",
      "\n",
      "None\n"
     ]
    }
   ],
   "source": [
    "from bs4 import BeautifulSoup\n",
    "\n",
    "html = urlopen('http://python.cyber.co.kr/pds/books/python2nd/test2.html')\n",
    "# bs = BeautifulSoup(html.read(), \"html.parser\")\n",
    "bs = BeautifulSoup(html, \"html.parser\")\n",
    "print(bs)\n",
    "print(bs.h1) # bs.html.body.h1 || bs.body.h1 || bs.html.h1"
   ]
  },
  {
   "cell_type": "code",
   "execution_count": 5,
   "id": "4b017c6c",
   "metadata": {},
   "outputs": [
    {
     "name": "stdout",
     "output_type": "stream",
     "text": [
      "^C\n",
      "\n"
     ]
    }
   ],
   "source": [
    "# lxml: 닫히지 않은 태그, 계층 구조가 잘못된 태그, <head><body>태그가 없는 등의 문제를 수정해줌.\n",
    "! pip install lxml\n",
    "bs = BeautifulSoup(html.read(), 'lxml')\n",
    "print(bs)"
   ]
  },
  {
   "cell_type": "code",
   "execution_count": null,
   "id": "659f2d42",
   "metadata": {},
   "outputs": [],
   "source": [
    "# html5lib: 더 많은 문제를 해결해주나 느림.\n",
    "! pip install html5lib\n",
    "bs = BeautifulSoup(html.read(), 'html5lib')\n",
    "print(bs)"
   ]
  },
  {
   "cell_type": "markdown",
   "id": "a3548dae",
   "metadata": {},
   "source": [
    "- 페이지를 찾을 수 없거나, URL 해석에 에러가 생긴 경우 <br>\n",
    "\"404 Page Not Found\", \"500 Internal Server Error\" => HTTPError\n",
    "- 서버를 찾을 수 없는 경우 <br>\n",
    "=> None 객체를 반환해 AttributeError"
   ]
  },
  {
   "cell_type": "code",
   "execution_count": 18,
   "id": "59814587",
   "metadata": {},
   "outputs": [
    {
     "name": "stdout",
     "output_type": "stream",
     "text": [
      "<h2>제1장 파이썬으로 데이터를 다운로드</h2>\n"
     ]
    }
   ],
   "source": [
    "from urllib.request import urlopen\n",
    "from urllib.error import HTTPError\n",
    "from bs4 import BeautifulSoup\n",
    "\n",
    "def getTitle(url):\n",
    "    try:\n",
    "        html = urlopen(url)\n",
    "    except HTTPError as e:\n",
    "        return None\n",
    "    try:\n",
    "        bs = BeautifulSoup(html.read(), 'html.parser')\n",
    "        title = bs.body.h2\n",
    "    except AttributeError as e:\n",
    "        return None\n",
    "    return title\n",
    "\n",
    "title = getTitle('http://python.cyber.co.kr/pds/books/python2nd/test2.html')\n",
    "if title == None:\n",
    "    print('Title could not be found')\n",
    "else: \n",
    "    print(title)"
   ]
  },
  {
   "cell_type": "markdown",
   "id": "5993dcf0",
   "metadata": {},
   "source": [
    "findAll(tagName, tagAttributes)\n",
    "\n",
    "- findAll(tag, attributes, recursive, text, limit, keywords)\n",
    "- find(tag, attributes, recursive, text, keywords)\n",
    "\n",
    "recursive은 True or False(최상위 태그만 찾음) <br>\n",
    "ex) <br>\n",
    "bs.findAll({'h1', 'h2', 'h3', 'h4', 'h5'})\n",
    "bs.findAll('span', {'class': {'green', 'red'}})"
   ]
  },
  {
   "cell_type": "code",
   "execution_count": 21,
   "id": "2d3f5466",
   "metadata": {
    "collapsed": true
   },
   "outputs": [
    {
     "name": "stdout",
     "output_type": "stream",
     "text": [
      "<bound method PageElement.get_text of <span class=\"green\">Anna\n",
      "Pavlovna Scherer</span>>\n",
      "<bound method PageElement.get_text of <span class=\"green\">Empress Marya\n",
      "Fedorovna</span>>\n",
      "<bound method PageElement.get_text of <span class=\"green\">Prince Vasili Kuragin</span>>\n",
      "<bound method PageElement.get_text of <span class=\"green\">Anna Pavlovna</span>>\n",
      "<bound method PageElement.get_text of <span class=\"green\">St. Petersburg</span>>\n",
      "<bound method PageElement.get_text of <span class=\"green\">the prince</span>>\n",
      "<bound method PageElement.get_text of <span class=\"green\">Anna Pavlovna</span>>\n",
      "<bound method PageElement.get_text of <span class=\"green\">Anna Pavlovna</span>>\n",
      "<bound method PageElement.get_text of <span class=\"green\">the prince</span>>\n",
      "<bound method PageElement.get_text of <span class=\"green\">the prince</span>>\n",
      "<bound method PageElement.get_text of <span class=\"green\">the prince</span>>\n",
      "<bound method PageElement.get_text of <span class=\"green\">Prince Vasili</span>>\n",
      "<bound method PageElement.get_text of <span class=\"green\">Anna Pavlovna</span>>\n",
      "<bound method PageElement.get_text of <span class=\"green\">Anna Pavlovna</span>>\n",
      "<bound method PageElement.get_text of <span class=\"green\">the prince</span>>\n",
      "<bound method PageElement.get_text of <span class=\"green\">Wintzingerode</span>>\n",
      "<bound method PageElement.get_text of <span class=\"green\">King of Prussia</span>>\n",
      "<bound method PageElement.get_text of <span class=\"green\">le Vicomte de Mortemart</span>>\n",
      "<bound method PageElement.get_text of <span class=\"green\">Montmorencys</span>>\n",
      "<bound method PageElement.get_text of <span class=\"green\">Rohans</span>>\n",
      "<bound method PageElement.get_text of <span class=\"green\">Abbe Morio</span>>\n",
      "<bound method PageElement.get_text of <span class=\"green\">the Emperor</span>>\n",
      "<bound method PageElement.get_text of <span class=\"green\">the prince</span>>\n",
      "<bound method PageElement.get_text of <span class=\"green\">Prince Vasili</span>>\n",
      "<bound method PageElement.get_text of <span class=\"green\">Dowager Empress Marya Fedorovna</span>>\n",
      "<bound method PageElement.get_text of <span class=\"green\">the baron</span>>\n",
      "<bound method PageElement.get_text of <span class=\"green\">Anna Pavlovna</span>>\n",
      "<bound method PageElement.get_text of <span class=\"green\">the Empress</span>>\n",
      "<bound method PageElement.get_text of <span class=\"green\">the Empress</span>>\n",
      "<bound method PageElement.get_text of <span class=\"green\">Anna Pavlovna's</span>>\n",
      "<bound method PageElement.get_text of <span class=\"green\">Her Majesty</span>>\n",
      "<bound method PageElement.get_text of <span class=\"green\">Baron\n",
      "Funke</span>>\n",
      "<bound method PageElement.get_text of <span class=\"green\">The prince</span>>\n",
      "<bound method PageElement.get_text of <span class=\"green\">Anna\n",
      "Pavlovna</span>>\n",
      "<bound method PageElement.get_text of <span class=\"green\">the Empress</span>>\n",
      "<bound method PageElement.get_text of <span class=\"green\">The prince</span>>\n",
      "<bound method PageElement.get_text of <span class=\"green\">Anatole</span>>\n",
      "<bound method PageElement.get_text of <span class=\"green\">the prince</span>>\n",
      "<bound method PageElement.get_text of <span class=\"green\">The prince</span>>\n",
      "<bound method PageElement.get_text of <span class=\"green\">Anna\n",
      "Pavlovna</span>>\n",
      "<bound method PageElement.get_text of <span class=\"green\">Anna Pavlovna</span>>\n"
     ]
    }
   ],
   "source": [
    "from urllib.request import urlopen\n",
    "from bs4 import BeautifulSoup\n",
    "\n",
    "html= urlopen('http://www.pythonscraping.com/pages/warandpeace.html')\n",
    "bs = BeautifulSoup(html.read(), 'html.parser')\n",
    "nameList = bs.findAll('span', {'class':'green'})\n",
    "for name in nameList:\n",
    "    print(name.get_text)"
   ]
  },
  {
   "cell_type": "code",
   "execution_count": 24,
   "id": "d3b8460e",
   "metadata": {},
   "outputs": [
    {
     "name": "stdout",
     "output_type": "stream",
     "text": [
      "7\n"
     ]
    },
    {
     "name": "stderr",
     "output_type": "stream",
     "text": [
      "C:\\Users\\mondi\\AppData\\Local\\Temp\\ipykernel_18644\\3879563270.py:1: DeprecationWarning: The 'text' argument to find()-type methods is deprecated. Use 'string' instead.\n",
      "  nameList = bs.findAll(text = 'the prince')\n"
     ]
    }
   ],
   "source": [
    "nameList = bs.findAll(text = 'the prince')\n",
    "print(len(nameList))"
   ]
  },
  {
   "cell_type": "code",
   "execution_count": 34,
   "id": "5a298df1",
   "metadata": {
    "collapsed": true
   },
   "outputs": [
    {
     "name": "stdout",
     "output_type": "stream",
     "text": [
      "자식과 자손\n",
      "\n",
      "\n",
      "<tr><th>\n",
      "Item Title\n",
      "</th><th>\n",
      "Description\n",
      "</th><th>\n",
      "Cost\n",
      "</th><th>\n",
      "Image\n",
      "</th></tr>\n",
      "\n",
      "\n",
      "<tr class=\"gift\" id=\"gift1\"><td>\n",
      "Vegetable Basket\n",
      "</td><td>\n",
      "This vegetable basket is the perfect gift for your health conscious (or overweight) friends!\n",
      "<span class=\"excitingNote\">Now with super-colorful bell peppers!</span>\n",
      "</td><td>\n",
      "$15.00\n",
      "</td><td>\n",
      "<img src=\"../img/gifts/img1.jpg\"/>\n",
      "</td></tr>\n",
      "\n",
      "\n",
      "<tr class=\"gift\" id=\"gift2\"><td>\n",
      "Russian Nesting Dolls\n",
      "</td><td>\n",
      "Hand-painted by trained monkeys, these exquisite dolls are priceless! And by \"priceless,\" we mean \"extremely expensive\"! <span class=\"excitingNote\">8 entire dolls per set! Octuple the presents!</span>\n",
      "</td><td>\n",
      "$10,000.52\n",
      "</td><td>\n",
      "<img src=\"../img/gifts/img2.jpg\"/>\n",
      "</td></tr>\n",
      "\n",
      "\n",
      "<tr class=\"gift\" id=\"gift3\"><td>\n",
      "Fish Painting\n",
      "</td><td>\n",
      "If something seems fishy about this painting, it's because it's a fish! <span class=\"excitingNote\">Also hand-painted by trained monkeys!</span>\n",
      "</td><td>\n",
      "$10,005.00\n",
      "</td><td>\n",
      "<img src=\"../img/gifts/img3.jpg\"/>\n",
      "</td></tr>\n",
      "\n",
      "\n",
      "<tr class=\"gift\" id=\"gift4\"><td>\n",
      "Dead Parrot\n",
      "</td><td>\n",
      "This is an ex-parrot! <span class=\"excitingNote\">Or maybe he's only resting?</span>\n",
      "</td><td>\n",
      "$0.50\n",
      "</td><td>\n",
      "<img src=\"../img/gifts/img4.jpg\"/>\n",
      "</td></tr>\n",
      "\n",
      "\n",
      "<tr class=\"gift\" id=\"gift5\"><td>\n",
      "Mystery Box\n",
      "</td><td>\n",
      "If you love suprises, this mystery box is for you! Do not place on light-colored surfaces. May cause oil staining. <span class=\"excitingNote\">Keep your friends guessing!</span>\n",
      "</td><td>\n",
      "$1.50\n",
      "</td><td>\n",
      "<img src=\"../img/gifts/img6.jpg\"/>\n",
      "</td></tr>\n",
      "\n",
      "\n",
      "형제 다루기\n",
      "\n",
      "\n",
      "<tr class=\"gift\" id=\"gift1\"><td>\n",
      "Vegetable Basket\n",
      "</td><td>\n",
      "This vegetable basket is the perfect gift for your health conscious (or overweight) friends!\n",
      "<span class=\"excitingNote\">Now with super-colorful bell peppers!</span>\n",
      "</td><td>\n",
      "$15.00\n",
      "</td><td>\n",
      "<img src=\"../img/gifts/img1.jpg\"/>\n",
      "</td></tr>\n",
      "\n",
      "\n",
      "<tr class=\"gift\" id=\"gift2\"><td>\n",
      "Russian Nesting Dolls\n",
      "</td><td>\n",
      "Hand-painted by trained monkeys, these exquisite dolls are priceless! And by \"priceless,\" we mean \"extremely expensive\"! <span class=\"excitingNote\">8 entire dolls per set! Octuple the presents!</span>\n",
      "</td><td>\n",
      "$10,000.52\n",
      "</td><td>\n",
      "<img src=\"../img/gifts/img2.jpg\"/>\n",
      "</td></tr>\n",
      "\n",
      "\n",
      "<tr class=\"gift\" id=\"gift3\"><td>\n",
      "Fish Painting\n",
      "</td><td>\n",
      "If something seems fishy about this painting, it's because it's a fish! <span class=\"excitingNote\">Also hand-painted by trained monkeys!</span>\n",
      "</td><td>\n",
      "$10,005.00\n",
      "</td><td>\n",
      "<img src=\"../img/gifts/img3.jpg\"/>\n",
      "</td></tr>\n",
      "\n",
      "\n",
      "<tr class=\"gift\" id=\"gift4\"><td>\n",
      "Dead Parrot\n",
      "</td><td>\n",
      "This is an ex-parrot! <span class=\"excitingNote\">Or maybe he's only resting?</span>\n",
      "</td><td>\n",
      "$0.50\n",
      "</td><td>\n",
      "<img src=\"../img/gifts/img4.jpg\"/>\n",
      "</td></tr>\n",
      "\n",
      "\n",
      "<tr class=\"gift\" id=\"gift5\"><td>\n",
      "Mystery Box\n",
      "</td><td>\n",
      "If you love suprises, this mystery box is for you! Do not place on light-colored surfaces. May cause oil staining. <span class=\"excitingNote\">Keep your friends guessing!</span>\n",
      "</td><td>\n",
      "$1.50\n",
      "</td><td>\n",
      "<img src=\"../img/gifts/img6.jpg\"/>\n",
      "</td></tr>\n",
      "\n",
      "\n",
      "부모 다루기: \n",
      "$15.00\n",
      "\n"
     ]
    }
   ],
   "source": [
    "from urllib.request import urlopen\n",
    "from bs4 import BeautifulSoup\n",
    "\n",
    "html= urlopen('http://www.pythonscraping.com/pages/page3.html')\n",
    "bs = BeautifulSoup(html.read(), 'html.parser')\n",
    "\n",
    "print('자식과 자손')\n",
    "for child in bs.find('table', {'id': 'giftList'}).children:\n",
    "    print(child)\n",
    "\n",
    "print('형제 다루기')\n",
    "for sibling in bs.find('table', {'id': 'giftList'}).tr.next_siblings:\n",
    "    print(sibling)\n",
    "    \n",
    "print('부모 다루기:', bs.find('img', {'src': '../img/gifts/img1.jpg'}).parent.previous_sibling.get_text())"
   ]
  },
  {
   "cell_type": "code",
   "execution_count": 37,
   "id": "59ed4b92",
   "metadata": {},
   "outputs": [
    {
     "name": "stdout",
     "output_type": "stream",
     "text": [
      "../img/gifts/img1.jpg\n",
      "../img/gifts/img2.jpg\n",
      "../img/gifts/img3.jpg\n",
      "../img/gifts/img4.jpg\n",
      "../img/gifts/img6.jpg\n"
     ]
    }
   ],
   "source": [
    "from urllib.request import urlopen\n",
    "from bs4 import BeautifulSoup\n",
    "import re\n",
    "\n",
    "html= urlopen('http://www.pythonscraping.com/pages/page3.html')\n",
    "bs = BeautifulSoup(html.read(), 'html.parser')\n",
    "images = bs.findAll('img', {'src': re.compile('\\.\\.\\/img\\/gifts/img.*\\.jpg')}) # ../img/gifts/img로 시작해서 .jpg로 끝남\n",
    "for image in images:\n",
    "    print(image['src'])"
   ]
  },
  {
   "cell_type": "code",
   "execution_count": 38,
   "id": "6d3b079b",
   "metadata": {
    "collapsed": true
   },
   "outputs": [
    {
     "data": {
      "text/plain": [
       "[<img src=\"../img/gifts/logo.jpg\" style=\"float:left;\"/>,\n",
       " <tr class=\"gift\" id=\"gift1\"><td>\n",
       " Vegetable Basket\n",
       " </td><td>\n",
       " This vegetable basket is the perfect gift for your health conscious (or overweight) friends!\n",
       " <span class=\"excitingNote\">Now with super-colorful bell peppers!</span>\n",
       " </td><td>\n",
       " $15.00\n",
       " </td><td>\n",
       " <img src=\"../img/gifts/img1.jpg\"/>\n",
       " </td></tr>,\n",
       " <tr class=\"gift\" id=\"gift2\"><td>\n",
       " Russian Nesting Dolls\n",
       " </td><td>\n",
       " Hand-painted by trained monkeys, these exquisite dolls are priceless! And by \"priceless,\" we mean \"extremely expensive\"! <span class=\"excitingNote\">8 entire dolls per set! Octuple the presents!</span>\n",
       " </td><td>\n",
       " $10,000.52\n",
       " </td><td>\n",
       " <img src=\"../img/gifts/img2.jpg\"/>\n",
       " </td></tr>,\n",
       " <tr class=\"gift\" id=\"gift3\"><td>\n",
       " Fish Painting\n",
       " </td><td>\n",
       " If something seems fishy about this painting, it's because it's a fish! <span class=\"excitingNote\">Also hand-painted by trained monkeys!</span>\n",
       " </td><td>\n",
       " $10,005.00\n",
       " </td><td>\n",
       " <img src=\"../img/gifts/img3.jpg\"/>\n",
       " </td></tr>,\n",
       " <tr class=\"gift\" id=\"gift4\"><td>\n",
       " Dead Parrot\n",
       " </td><td>\n",
       " This is an ex-parrot! <span class=\"excitingNote\">Or maybe he's only resting?</span>\n",
       " </td><td>\n",
       " $0.50\n",
       " </td><td>\n",
       " <img src=\"../img/gifts/img4.jpg\"/>\n",
       " </td></tr>,\n",
       " <tr class=\"gift\" id=\"gift5\"><td>\n",
       " Mystery Box\n",
       " </td><td>\n",
       " If you love suprises, this mystery box is for you! Do not place on light-colored surfaces. May cause oil staining. <span class=\"excitingNote\">Keep your friends guessing!</span>\n",
       " </td><td>\n",
       " $1.50\n",
       " </td><td>\n",
       " <img src=\"../img/gifts/img6.jpg\"/>\n",
       " </td></tr>]"
      ]
     },
     "execution_count": 38,
     "metadata": {},
     "output_type": "execute_result"
    }
   ],
   "source": [
    "# 속성이 두 개인 태그 모두 추출\n",
    "bs.findAll(lambda tag: len(tag.attrs) == 2)"
   ]
  },
  {
   "cell_type": "code",
   "execution_count": 39,
   "id": "278cd8e5",
   "metadata": {},
   "outputs": [
    {
     "data": {
      "text/plain": [
       "[<span class=\"excitingNote\">Or maybe he's only resting?</span>]"
      ]
     },
     "execution_count": 39,
     "metadata": {},
     "output_type": "execute_result"
    }
   ],
   "source": [
    "bs.findAll(lambda tag: tag.get_text() == 'Or maybe he\\'s only resting?')"
   ]
  },
  {
   "cell_type": "markdown",
   "id": "cd2d4508",
   "metadata": {},
   "source": []
  },
  {
   "cell_type": "markdown",
   "id": "990c168d",
   "metadata": {},
   "source": [
    "ⓒ파이썬으로 웹 크롤러 만들기 / 라이언 미첼 저"
   ]
  }
 ],
 "metadata": {
  "kernelspec": {
   "display_name": "Python 3 (ipykernel)",
   "language": "python",
   "name": "python3"
  },
  "language_info": {
   "codemirror_mode": {
    "name": "ipython",
    "version": 3
   },
   "file_extension": ".py",
   "mimetype": "text/x-python",
   "name": "python",
   "nbconvert_exporter": "python",
   "pygments_lexer": "ipython3",
   "version": "3.11.3"
  }
 },
 "nbformat": 4,
 "nbformat_minor": 5
}
