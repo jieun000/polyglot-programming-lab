{
 "cells": [
  {
   "cell_type": "code",
   "execution_count": null,
   "id": "4ef4a923",
   "metadata": {},
   "outputs": [],
   "source": [
    "from urllib.request import urlopen\n",
    "\n",
    "html = urlopen('http://pythonscraping.com/pages/page1.html')\n",
    "print(html.read())"
   ]
  },
  {
   "cell_type": "code",
   "execution_count": null,
   "id": "0c0e140a",
   "metadata": {
    "scrolled": true
   },
   "outputs": [],
   "source": [
    "from bs4 import BeautifulSoup\n",
    "\n",
    "html = urlopen('http://pythonscraping.com/pages/page1.html')\n",
    "# bs = BeautifulSoup(html.read(), \"html.parser\")\n",
    "bs = BeautifulSoup(html, \"html.parser\")\n",
    "print(bs)\n",
    "print(bs.h1) # bs.html.body.h1 || bs.body.h1 || bs.html.h1"
   ]
  },
  {
   "cell_type": "code",
   "execution_count": null,
   "id": "4b017c6c",
   "metadata": {},
   "outputs": [],
   "source": [
    "! pip install lxml\n",
    "bs = BeautifulSoup(html.read(), 'lxml')\n",
    "print(bs)"
   ]
  },
  {
   "cell_type": "code",
   "execution_count": null,
   "id": "659f2d42",
   "metadata": {},
   "outputs": [],
   "source": [
    "! pip install html5lib\n",
    "bs = BeautifulSoup(html.read(), 'html5lib')\n",
    "print(bs)"
   ]
  },
  {
   "cell_type": "code",
   "execution_count": null,
   "id": "59814587",
   "metadata": {},
   "outputs": [],
   "source": [
    "from urllib.request import urlopen\n",
    "from urllib.error import HTTPError\n",
    "from bs4 import BeautifulSoup\n",
    "\n",
    "def getTitle(url):\n",
    "    try:\n",
    "        html = urlopen(url)\n",
    "    except HTTPError as e:\n",
    "        return None\n",
    "    try:\n",
    "        bs = BeautifulSoup(html.read(), 'html.parser')\n",
    "        title = bs.body.h1\n",
    "    except AttributeError as e:\n",
    "        return None\n",
    "    return title\n",
    "\n",
    "title = getTitle('http://pythonscraping.com/pages/page1.html')\n",
    "if title == None:\n",
    "    print('Title could not be found')\n",
    "else: \n",
    "    print(title)"
   ]
  },
  {
   "cell_type": "markdown",
   "id": "990c168d",
   "metadata": {},
   "source": [
    "ⓒ파이썬으로 웹 크롤러 만들기 / 라이언 미첼 저"
   ]
  }
 ],
 "metadata": {
  "kernelspec": {
   "display_name": "Python 3 (ipykernel)",
   "language": "python",
   "name": "python3"
  },
  "language_info": {
   "codemirror_mode": {
    "name": "ipython",
    "version": 3
   },
   "file_extension": ".py",
   "mimetype": "text/x-python",
   "name": "python",
   "nbconvert_exporter": "python",
   "pygments_lexer": "ipython3",
   "version": "3.11.3"
  }
 },
 "nbformat": 4,
 "nbformat_minor": 5
}
